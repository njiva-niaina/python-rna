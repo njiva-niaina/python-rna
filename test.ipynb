{
 "cells": [
  {
   "cell_type": "code",
   "execution_count": 10,
   "metadata": {},
   "outputs": [],
   "source": [
    "import numpy as np"
   ]
  },
  {
   "cell_type": "code",
   "execution_count": 11,
   "metadata": {},
   "outputs": [],
   "source": [
    "def sigmoid(x):\n",
    "    return 1 / (1 + np.exp(-x))\n",
    "\n",
    "\n",
    "def d_sigmoid(x):\n",
    "    return np.exp(-x) / np.power((1 + np.exp(-x)), 2)\n",
    "\n",
    "\n",
    "def generate_weight(source_units, target_units):\n",
    "    return np.array(\n",
    "        [np.random.randn() for _ in range(source_units * target_units)]\n",
    "    ).reshape(target_units, source_units)"
   ]
  },
  {
   "cell_type": "code",
   "execution_count": 12,
   "metadata": {},
   "outputs": [],
   "source": [
    "def forward_propagation(prototype, weight):\n",
    "    units_input = []\n",
    "    units_output = [prototype]\n",
    "    for layer in weight:\n",
    "        current_input = []\n",
    "        current_output = []\n",
    "        for unit in layer:\n",
    "            h = np.dot(prototype, unit)\n",
    "            current_input.append(h)\n",
    "            current_output.append(sigmoid(h))\n",
    "        units_input.append(current_input)\n",
    "        units_output.append(current_output)\n",
    "        prototype = current_output\n",
    "    return (units_input, units_output)"
   ]
  },
  {
   "cell_type": "code",
   "execution_count": 13,
   "metadata": {},
   "outputs": [],
   "source": [
    "def output_layer_delta(input, output, desired_output):\n",
    "    units_delta = []\n",
    "    for i in range(len(desired_output)):\n",
    "        delta = d_sigmoid(input[i]) * (desired_output[i] - output[i])\n",
    "        units_delta.append(delta)\n",
    "    return units_delta"
   ]
  },
  {
   "cell_type": "code",
   "execution_count": 14,
   "metadata": {},
   "outputs": [],
   "source": [
    "def middle_layer_delta(input, weight, succ_delta):\n",
    "    units_delta = []\n",
    "    for i in range(len(weight) + 1, 2, -1):\n",
    "        for j in range(len(weight[i - 3])):\n",
    "            delta = d_sigmoid(input[i - 3][j]) * np.dot(\n",
    "                [weight[i - 2][k][j] for k in range(len(weight[i - 2]))], succ_delta[-1]\n",
    "            )\n",
    "            units_delta.append(delta)\n",
    "        succ_delta.append(units_delta)\n",
    "    return succ_delta"
   ]
  },
  {
   "cell_type": "code",
   "execution_count": 15,
   "metadata": {},
   "outputs": [],
   "source": [
    "def delta_weight(learning_step, succ_layer_delta, output):\n",
    "    output_copy = list.copy(output)\n",
    "    output_copy.pop()\n",
    "    output_copy.reverse()\n",
    "    delta_weights = []\n",
    "    for i in range(len(succ_layer_delta)):\n",
    "        current_delta = []\n",
    "        for delta in succ_layer_delta[i]:\n",
    "            current_delta.append(np.multiply(delta * learning_step, output_copy[i]))\n",
    "        delta_weights.append(current_delta)\n",
    "    delta_weights.reverse()\n",
    "    return delta_weights"
   ]
  },
  {
   "cell_type": "code",
   "execution_count": 16,
   "metadata": {},
   "outputs": [],
   "source": [
    "def update_weight(weight, delta_weight):\n",
    "    return [np.add(weight[i], delta_weight[i]) for i in range(len(weight))]"
   ]
  },
  {
   "cell_type": "code",
   "execution_count": 17,
   "metadata": {},
   "outputs": [],
   "source": [
    "prototype = [1, 0, 1]\n",
    "w = [[[0.2, 0.1, 0.1], [0.3, 0.2, 0.3]], [[0.2, 0.3]]]\n",
    "learning_step = 0.1\n",
    "desired_output = [1]"
   ]
  },
  {
   "cell_type": "code",
   "execution_count": 18,
   "metadata": {},
   "outputs": [
    {
     "data": {
      "text/plain": [
       "[array([[0.20050546, 0.1       , 0.10050546],\n",
       "        [0.30070958, 0.2       , 0.30070958]]),\n",
       " array([[0.20593883, 0.30667507]])]"
      ]
     },
     "execution_count": 18,
     "metadata": {},
     "output_type": "execute_result"
    }
   ],
   "source": [
    "unit_inputs, unit_outputs = forward_propagation(prototype, w)\n",
    "d = output_layer_delta(unit_inputs[-1], unit_outputs[-1], desired_output)\n",
    "d = middle_layer_delta(unit_inputs, w, [d])\n",
    "dw = delta_weight(learning_step, d, unit_outputs)\n",
    "dw\n",
    "w = update_weight(w, dw)\n",
    "w"
   ]
  },
  {
   "cell_type": "code",
   "execution_count": null,
   "metadata": {},
   "outputs": [],
   "source": []
  }
 ],
 "metadata": {
  "kernelspec": {
   "display_name": "env",
   "language": "python",
   "name": "python3"
  },
  "language_info": {
   "codemirror_mode": {
    "name": "ipython",
    "version": 3
   },
   "file_extension": ".py",
   "mimetype": "text/x-python",
   "name": "python",
   "nbconvert_exporter": "python",
   "pygments_lexer": "ipython3",
   "version": "3.11.4"
  },
  "orig_nbformat": 4
 },
 "nbformat": 4,
 "nbformat_minor": 2
}
