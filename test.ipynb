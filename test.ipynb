{
 "cells": [
  {
   "cell_type": "code",
   "execution_count": 5,
   "metadata": {},
   "outputs": [],
   "source": [
    "import numpy as np"
   ]
  },
  {
   "cell_type": "code",
   "execution_count": 6,
   "metadata": {},
   "outputs": [],
   "source": [
    "def sigmoid(x):\n",
    "    return 1 / (1 + np.exp(-x))\n",
    "\n",
    "\n",
    "def d_sigmoid(x):\n",
    "    return np.exp(-x) / np.power((1 + np.exp(-x)), 2)\n",
    "\n",
    "\n",
    "def generate_weight(source_units, target_units):\n",
    "    return np.array(\n",
    "        [np.random.randn() for _ in range(source_units * target_units)]\n",
    "    ).reshape(target_units, source_units)"
   ]
  },
  {
   "cell_type": "code",
   "execution_count": 64,
   "metadata": {},
   "outputs": [],
   "source": [
    "def forward_propagation(X, W1, W2):\n",
    "    V = []\n",
    "    V.append(sigmoid(np.dot(X, W1[0])))\n",
    "    V.append(sigmoid(np.dot(X, W1[1])))\n",
    "    V.append(sigmoid(np.dot([V[0], V[1]], W2[0])))\n",
    "    return V"
   ]
  },
  {
   "cell_type": "code",
   "execution_count": 14,
   "metadata": {},
   "outputs": [],
   "source": [
    "def forward_propagation(X, W):\n",
    "    H = []\n",
    "    V = []\n",
    "    for layer in W:\n",
    "        current_input = []\n",
    "        current_output = []\n",
    "        for unit in layer:\n",
    "            h = np.dot(X, unit)\n",
    "            current_input.append(h)\n",
    "            current_output.append(sigmoid(h))\n",
    "        H.append(current_input)\n",
    "        V.append(current_output)\n",
    "        X = current_output\n",
    "    return (H, V)"
   ]
  },
  {
   "cell_type": "code",
   "execution_count": 16,
   "metadata": {},
   "outputs": [],
   "source": [
    "def layer_out_delta(H, Y, V):\n",
    "    LOD = []\n",
    "    for i in range(len(Y)):\n",
    "        delta = d_sigmoid(H[i]) * (Y[i] - V[i])\n",
    "        LOD.append(delta)\n",
    "    return LOD"
   ]
  },
  {
   "cell_type": "code",
   "execution_count": 77,
   "metadata": {},
   "outputs": [],
   "source": [
    "def layer_mid_delta(H, W, D):\n",
    "    print(len(W))\n",
    "    LMD = []\n",
    "    for i in range(len(W) + 1, 2, -1):\n",
    "        for j in range(len(W[i - 3])):\n",
    "            delta = d_sigmoid(H[i - 3][j]) * np.dot(\n",
    "                [W[i - 2][k][j] for k in range(len(W[i - 2]))], D[-1]\n",
    "            )\n",
    "            LMD.append(delta)\n",
    "        D.append(LMD)\n",
    "    return LMD"
   ]
  },
  {
   "cell_type": "code",
   "execution_count": 69,
   "metadata": {},
   "outputs": [
    {
     "data": {
      "text/plain": [
       "[[0.30000000000000004, 0.6], [0.30858539523007045]]"
      ]
     },
     "execution_count": 69,
     "metadata": {},
     "output_type": "execute_result"
    }
   ],
   "source": [
    "x = [1, 0, 1]\n",
    "w1 = [[0.2, 0.1, 0.1], [0.3, 0.2, 0.3]]\n",
    "w2 = [[0.2, 0.3]]\n",
    "w = [w1, w2]\n",
    "H, V = forward_propagation(x, w)\n",
    "H"
   ]
  },
  {
   "cell_type": "code",
   "execution_count": 50,
   "metadata": {},
   "outputs": [
    {
     "data": {
      "text/plain": [
       "[0.10338423415212816]"
      ]
     },
     "execution_count": 50,
     "metadata": {},
     "output_type": "execute_result"
    }
   ],
   "source": [
    "layer_out_delta([0.30858539523007045], [1], [0.576539934653204])"
   ]
  },
  {
   "cell_type": "code",
   "execution_count": 78,
   "metadata": {},
   "outputs": [
    {
     "name": "stdout",
     "output_type": "stream",
     "text": [
      "2\n",
      "H 0.30000000000000004\n",
      "W [0.2]\n",
      "D [0.10338423415212816]\n",
      "H 0.6\n",
      "W [0.3]\n",
      "D [0.10338423415212816]\n"
     ]
    },
    {
     "data": {
      "text/plain": [
       "[0.005054627067254001, 0.007095805045706355]"
      ]
     },
     "execution_count": 78,
     "metadata": {},
     "output_type": "execute_result"
    }
   ],
   "source": [
    "layer_mid_delta([[0.30000000000000004, 0.6], [0.30858539523007045]], w, [[0.10338423415212816]])"
   ]
  },
  {
   "cell_type": "code",
   "execution_count": 76,
   "metadata": {},
   "outputs": [
    {
     "data": {
      "text/plain": [
       "0.005054627067254001"
      ]
     },
     "execution_count": 76,
     "metadata": {},
     "output_type": "execute_result"
    }
   ],
   "source": [
    "d_sigmoid(0.3) * np.dot([0.2], [0.10338423415212816])"
   ]
  },
  {
   "cell_type": "code",
   "execution_count": 36,
   "metadata": {},
   "outputs": [
    {
     "data": {
      "text/plain": [
       "[0, 1]"
      ]
     },
     "execution_count": 36,
     "metadata": {},
     "output_type": "execute_result"
    }
   ],
   "source": [
    "def take_first_element(arr):\n",
    "    \n",
    "    return [arr[i][0] for i in range(len(arr))]\n",
    "\n",
    "take_first_element([[0, 5], [1, 2]])"
   ]
  }
 ],
 "metadata": {
  "kernelspec": {
   "display_name": "env",
   "language": "python",
   "name": "python3"
  },
  "language_info": {
   "codemirror_mode": {
    "name": "ipython",
    "version": 3
   },
   "file_extension": ".py",
   "mimetype": "text/x-python",
   "name": "python",
   "nbconvert_exporter": "python",
   "pygments_lexer": "ipython3",
   "version": "3.11.4"
  },
  "orig_nbformat": 4
 },
 "nbformat": 4,
 "nbformat_minor": 2
}
