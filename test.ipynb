{
 "cells": [
  {
   "cell_type": "code",
   "execution_count": 136,
   "metadata": {},
   "outputs": [],
   "source": [
    "import numpy as np"
   ]
  },
  {
   "cell_type": "code",
   "execution_count": 137,
   "metadata": {},
   "outputs": [],
   "source": [
    "def sigmoid(x):\n",
    "    return 1 / (1 + np.exp(-x))\n",
    "\n",
    "\n",
    "def d_sigmoid(x):\n",
    "    return np.exp(-x) / np.power((1 + np.exp(-x)), 2)\n",
    "\n",
    "\n",
    "def generate_weight(source_units, target_units):\n",
    "    return np.array(\n",
    "        [np.random.randn() for _ in range(source_units * target_units)]\n",
    "    ).reshape(target_units, source_units)"
   ]
  },
  {
   "cell_type": "code",
   "execution_count": 138,
   "metadata": {},
   "outputs": [],
   "source": [
    "def forward_propagation(X, W):\n",
    "    H = []\n",
    "    V = []\n",
    "    for layer in W:\n",
    "        current_input = []\n",
    "        current_output = []\n",
    "        for unit in layer:\n",
    "            h = np.dot(X, unit)\n",
    "            current_input.append(h)\n",
    "            current_output.append(sigmoid(h))\n",
    "        H.append(current_input)\n",
    "        V.append(current_output)\n",
    "        X = current_output\n",
    "    return (H, V)"
   ]
  },
  {
   "cell_type": "code",
   "execution_count": 139,
   "metadata": {},
   "outputs": [],
   "source": [
    "def layer_out_delta(H, Y, V):\n",
    "    LOD = []\n",
    "    for i in range(len(Y)):\n",
    "        delta = d_sigmoid(H[i]) * (Y[i] - V[i])\n",
    "        LOD.append(delta)\n",
    "    return LOD"
   ]
  },
  {
   "cell_type": "code",
   "execution_count": 140,
   "metadata": {},
   "outputs": [],
   "source": [
    "def layer_mid_delta(H, W, D):\n",
    "    LMD = []\n",
    "    for i in range(len(W) + 1, 2, -1):\n",
    "        for j in range(len(W[i - 3])):\n",
    "            delta = d_sigmoid(H[i - 3][j]) * np.dot(\n",
    "                [W[i - 2][k][j] for k in range(len(W[i - 2]))], D[-1]\n",
    "            )\n",
    "            LMD.append(delta)\n",
    "        D.append(LMD)\n",
    "    return D"
   ]
  },
  {
   "cell_type": "code",
   "execution_count": 141,
   "metadata": {},
   "outputs": [],
   "source": [
    "def delta_weight(n, D, V):\n",
    "    V_COPY = list.copy(V)\n",
    "    V_COPY.pop()\n",
    "    V_COPY.reverse()\n",
    "    DW = []\n",
    "    for i in range(len(D)):\n",
    "        CURRENT_DW = []\n",
    "        for delta in D[i]:\n",
    "            result = np.multiply(delta, V_COPY[i])\n",
    "            result = np.multiply(n, result)\n",
    "            CURRENT_DW.append(result)\n",
    "        DW.append(CURRENT_DW)\n",
    "    DW.reverse()\n",
    "    return DW"
   ]
  },
  {
   "cell_type": "code",
   "execution_count": 142,
   "metadata": {},
   "outputs": [],
   "source": [
    "def update_weight(weight, delta_weight):\n",
    "    return [np.add(weight[i], delta_weight[i]) for i in range(len(weight))]"
   ]
  }
 ],
 "metadata": {
  "kernelspec": {
   "display_name": "env",
   "language": "python",
   "name": "python3"
  },
  "language_info": {
   "codemirror_mode": {
    "name": "ipython",
    "version": 3
   },
   "file_extension": ".py",
   "mimetype": "text/x-python",
   "name": "python",
   "nbconvert_exporter": "python",
   "pygments_lexer": "ipython3",
   "version": "3.11.4"
  },
  "orig_nbformat": 4
 },
 "nbformat": 4,
 "nbformat_minor": 2
}
