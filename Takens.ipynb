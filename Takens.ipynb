{
 "cells": [
  {
   "cell_type": "code",
   "execution_count": 1,
   "metadata": {},
   "outputs": [],
   "source": [
    "import numpy as np\n",
    "import matplotlib.pyplot as plt"
   ]
  },
  {
   "cell_type": "code",
   "execution_count": 2,
   "metadata": {},
   "outputs": [],
   "source": [
    "def func_value(a, x):\n",
    "    res = np.round(a * x * (1 - x), 8)\n",
    "    return np.nan_to_num(res) if np.isinf(res) else res\n",
    "\n",
    "\n",
    "def generate_func_values(a, initial_value, range_number):\n",
    "    x = [func_value(a, initial_value)]\n",
    "    for i in range(1, range_number):\n",
    "        x.append(func_value(a, x[i - 1]))\n",
    "    return x"
   ]
  },
  {
   "cell_type": "code",
   "execution_count": 3,
   "metadata": {},
   "outputs": [],
   "source": [
    "def generate_sequence(time_series, dimension, delay):\n",
    "    seq = np.array([time_series[0 : len(time_series) - delay * dimension]])\n",
    "    if delay * dimension > len(time_series):\n",
    "        return []\n",
    "    for i in range(1, dimension):\n",
    "        seq = np.append(\n",
    "            seq,\n",
    "            [time_series[i * delay : len(time_series) - delay * (dimension - i)]],\n",
    "            axis=0,\n",
    "        )\n",
    "    return seq.T.reshape(len(time_series)-dimension, dimension, 1)"
   ]
  },
  {
   "cell_type": "code",
   "execution_count": 4,
   "metadata": {},
   "outputs": [],
   "source": [
    "def compute_eig(sequences):\n",
    "    eig = np.array([])\n",
    "    matrix = np.multiply(sequences, sequences.T)\n",
    "    for m in matrix:\n",
    "        cov_mat = np.cov(m)\n",
    "        eigv, eigh = np.linalg.eig(cov_mat)\n",
    "        eig = np.append(eig, np.array(eigv).flatten())\n",
    "        eig = np.append(eig, np.array(eigh).flatten())\n",
    "    eig = np.array([eigv, eigv]).flatten()\n",
    "    return np.round(np.sort(eig, kind=\"mergesort\")[::-1], 8)"
   ]
  },
  {
   "cell_type": "code",
   "execution_count": 5,
   "metadata": {},
   "outputs": [],
   "source": [
    "def generate_error(eig, dimension):\n",
    "    return [np.round(np.sqrt(eig[i + 1]), 8) for i in range(dimension)]"
   ]
  },
  {
   "cell_type": "code",
   "execution_count": 6,
   "metadata": {},
   "outputs": [],
   "source": [
    "def get_stable_value_index(err):\n",
    "    val = [err[0]]\n",
    "    idx = [1]\n",
    "    for i in range(1, len(err)):\n",
    "        if err[i - 1] != err[i]:\n",
    "            val.append(err[i])\n",
    "            idx.append(i + 1)\n",
    "    return (val, idx)"
   ]
  },
  {
   "cell_type": "code",
   "execution_count": 7,
   "metadata": {},
   "outputs": [],
   "source": [
    "def takens(time_series, dimension, delay):\n",
    "    sequences = generate_sequence(\n",
    "        time_series=time_series, dimension=dimension, delay=delay\n",
    "    )\n",
    "    eig = compute_eig(sequences=sequences)\n",
    "    err = generate_error(eig=eig, dimension=dimension)\n",
    "    val, idx = get_stable_value_index(err=err)\n",
    "    return (val, idx, err)"
   ]
  },
  {
   "cell_type": "code",
   "execution_count": 8,
   "metadata": {},
   "outputs": [],
   "source": [
    "def plot(val, idx, err, length):\n",
    "    fig, ax = plt.subplots()\n",
    "    ax.set_xlabel(\"Correspondance\")\n",
    "    ax.set_ylabel(\"Erreur\")\n",
    "    plt.title(f\"Nombre d'unité d'entrée (A = 2)\")\n",
    "    ax.plot(np.array(range(1, length + 1)), err, \"o\")\n",
    "    ax.stem(idx[1::], val[1::])\n",
    "    ax.set_xlim(left=0)\n",
    "    ax.set_xticks(idx[1::], labels=idx[1::])\n",
    "    plt.show()"
   ]
  },
  {
   "cell_type": "code",
   "execution_count": 9,
   "metadata": {},
   "outputs": [],
   "source": [
    "a = 2\n",
    "initial_value = 0.1\n",
    "range_number = 500\n",
    "dimension = 100\n",
    "delay = 1\n",
    "time_series = generate_func_values(\n",
    "    a=a, initial_value=initial_value, range_number=range_number\n",
    ")"
   ]
  },
  {
   "cell_type": "code",
   "execution_count": 10,
   "metadata": {},
   "outputs": [],
   "source": [
    "val, idx, err = takens(delay=delay, dimension=dimension, time_series=time_series)"
   ]
  },
  {
   "cell_type": "code",
   "execution_count": 11,
   "metadata": {},
   "outputs": [
    {
     "data": {
      "image/png": "[encoded data removed]",
      "text/plain": [
       "<Figure size 640x480 with 1 Axes>"
      ]
     },
     "metadata": {},
     "output_type": "display_data"
    }
   ],
   "source": [
    "plot(val=val, length=dimension, err=err, idx=idx)"
   ]
  }
 ],
 "metadata": {
  "kernelspec": {
   "display_name": "env",
   "language": "python",
   "name": "python3"
  },
  "language_info": {
   "codemirror_mode": {
    "name": "ipython",
    "version": 3
   },
   "file_extension": ".py",
   "mimetype": "text/x-python",
   "name": "python",
   "nbconvert_exporter": "python",
   "pygments_lexer": "ipython3",
   "version": "3.11.5"
  },
  "orig_nbformat": 4
 },
 "nbformat": 4,
 "nbformat_minor": 2
}
