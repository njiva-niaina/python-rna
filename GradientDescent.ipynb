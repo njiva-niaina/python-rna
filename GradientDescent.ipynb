{
 "cells": [
  {
   "cell_type": "code",
   "execution_count": null,
   "metadata": {},
   "outputs": [],
   "source": [
    "import numpy as np\n",
    "import import_ipynb\n",
    "import Takens\n",
    "import matplotlib.pyplot as plt"
   ]
  },
  {
   "cell_type": "code",
   "execution_count": null,
   "metadata": {},
   "outputs": [],
   "source": [
    "def sigmoid(x):\n",
    "    res = np.round((1 / (1 + np.exp(-x))), 8)\n",
    "    return np.nan_to_num(res) if np.isinf(res) or np.isnan(res) else res\n",
    "\n",
    "\n",
    "def d_sigmoid(x):\n",
    "    res = np.round((np.exp(-x) / np.power((1 + np.exp(-x)), 2)), 8)\n",
    "    return np.nan_to_num(res) if np.isinf(res) or np.isnan(res) else res\n",
    "\n",
    "\n",
    "def generate_weight(source_units, target_units):\n",
    "    return np.array(\n",
    "        [\n",
    "            np.round(np.random.uniform(0.1, 10 ** (-20)), 8)\n",
    "            for _ in range(source_units * target_units)\n",
    "        ]\n",
    "    ).reshape(target_units, source_units)"
   ]
  },
  {
   "cell_type": "code",
   "execution_count": null,
   "metadata": {},
   "outputs": [],
   "source": [
    "def generate_network_weight(arch):\n",
    "    return [generate_weight(arch[i - 1], arch[i]) for i in range(1, len(arch))]"
   ]
  },
  {
   "cell_type": "code",
   "execution_count": null,
   "metadata": {},
   "outputs": [],
   "source": [
    "def forward_propagation(prototype, weight):\n",
    "    \"\"\"Calcule les valeurs d'entrée et de sortie des unités de chaque couche\n",
    "    Args:\n",
    "        prototype (list[float]): prototype qui entre dans les noeuds de la couche d'entrée\n",
    "        weight (list[list[float]]): poids de chaque connexions entre les noeuds des couches\n",
    "            eg: Pour un réseau de type [3, 2, 1] w doit ressembler à\n",
    "                w = [[[w11, w12, w13], [w21, w22, w23]], [[w11, w12]]]\n",
    "    Returns:\n",
    "        units_input (list[list[float]]): chaque valeurs d'entrée des unités de chaque couche\n",
    "            eg: Pour un réseau de type [3, 2, 1] on a [[h21, h22], [h31]]\n",
    "        units_output (list[list[float]]): chaque valeurs de sortie des unités de chaque couche\n",
    "            eg: Pour un réseau de type [3, 2, 1] on a [[V11, V12, V13], [V21, V22], [V31]]\n",
    "    \"\"\"\n",
    "    units_input = []\n",
    "    units_output = [prototype]\n",
    "    for layer in weight:\n",
    "        current_input = []\n",
    "        current_output = []\n",
    "        for unit in layer:\n",
    "            h = np.dot(prototype, unit)\n",
    "            current_input.append(h)\n",
    "            current_output.append(sigmoid(h))\n",
    "        units_input.append(current_input)\n",
    "        units_output.append(current_output)\n",
    "        prototype = current_output\n",
    "    return (units_input, units_output)"
   ]
  },
  {
   "cell_type": "code",
   "execution_count": null,
   "metadata": {},
   "outputs": [],
   "source": [
    "def output_layer_delta(input, output, desired_output):\n",
    "    \"\"\"Calcule les deltas pour la couche de sortie\n",
    "    Args:\n",
    "        input (list[float]): valeurs d'entrées des unités de sortie\n",
    "        output (list[float]): valeurs produites par les unités de sortie\n",
    "        desired_output (list[float]): valeurs désirés\n",
    "    Returns:\n",
    "        units_delta (list[float]): deltas des unités de la couche de sortie\n",
    "    \"\"\"\n",
    "    units_delta = []\n",
    "    for i in range(len(desired_output)):\n",
    "        delta = d_sigmoid(input[i]) * (desired_output[i] - output[i])\n",
    "        delta = (\n",
    "            np.nan_to_num(np.round(delta, 8))\n",
    "            if np.isinf(np.round(delta, 8)) or np.isnan(np.round(delta, 8))\n",
    "            else np.round(delta, 8)\n",
    "        )\n",
    "        units_delta.append(delta)\n",
    "    return units_delta"
   ]
  },
  {
   "cell_type": "code",
   "execution_count": null,
   "metadata": {},
   "outputs": [],
   "source": [
    "def middle_layer_delta(input, weight, succ_delta):\n",
    "    \"\"\"Calcule les deltas pour les couches précédentes\n",
    "    Args:\n",
    "        input (list[list[float]]): chaque valeurs d'entrée des unités de chaque couche\n",
    "        weight (list[list[float]]): poids de chaque connexions entre les noeuds des couches\n",
    "        succ_delta (list[list[float]]): delta des couches suivants\n",
    "    Returns:\n",
    "        succ_delta (list[list[float]]): liste de tous les deltas\n",
    "    \"\"\"\n",
    "    units_delta = []\n",
    "    for i in range(len(weight) + 1, 2, -1):\n",
    "        for j in range(len(weight[i - 3])):\n",
    "            delta = d_sigmoid(input[i - 3][j]) * np.dot(\n",
    "                [weight[i - 2][k][j] for k in range(len(weight[i - 2]))], succ_delta[-1]\n",
    "            )\n",
    "            delta = (\n",
    "                np.nan_to_num(np.round(delta, 8))\n",
    "                if np.isinf(np.round(delta, 8)) or np.isnan(np.round(delta, 8))\n",
    "                else np.round(delta, 8)\n",
    "            )\n",
    "            units_delta.append(delta)\n",
    "        succ_delta.append(units_delta)\n",
    "    return succ_delta"
   ]
  },
  {
   "cell_type": "code",
   "execution_count": null,
   "metadata": {},
   "outputs": [],
   "source": [
    "def delta_weight(learning_step, succ_layer_delta, output):\n",
    "    \"\"\"Calcule  delta weight pour mettre à jour les poids\n",
    "    Args:\n",
    "        learning_step (float): pas d'apprentissage\n",
    "        succ_layer (list[list[float]]): tous les deltas de chaque noeud de chaque couche\n",
    "        output (list[list[float]]): valeus produites par tous les noeuds\n",
    "    Returns:\n",
    "        delta_weights (list[list[float]]): delta de tous les noeuds de chaque couche\n",
    "    \"\"\"\n",
    "    output_copy = list.copy(output)\n",
    "    output_copy.pop()\n",
    "    output_copy.reverse()\n",
    "    delta_weights = []\n",
    "    for i in range(len(succ_layer_delta)):\n",
    "        current_delta = []\n",
    "        for delta in succ_layer_delta[i]:\n",
    "            current_delta.append(np.multiply(delta * learning_step, output_copy[i]))\n",
    "        delta_weights.append(current_delta)\n",
    "    delta_weights.reverse()\n",
    "    return delta_weights"
   ]
  },
  {
   "cell_type": "code",
   "execution_count": null,
   "metadata": {},
   "outputs": [],
   "source": [
    "def update_weight(weight, delta_weight):\n",
    "    \"\"\"Met à jours les poids des connexions\n",
    "    Args:\n",
    "        weight (list[list[float]]): poids des connexions\n",
    "        delta_weight (list[list[float]]): delta de tous les noeuds de chaque couche\n",
    "    Returns: poids des connexions à jour\n",
    "    \"\"\"\n",
    "    return [np.round(np.add(weight[i], delta_weight[i]), 8) for i in range(len(weight))]"
   ]
  },
  {
   "cell_type": "code",
   "execution_count": null,
   "metadata": {},
   "outputs": [],
   "source": [
    "def train(prototype, initial_weight, learning_step, desired_output):\n",
    "    w = initial_weight\n",
    "    outputs = []\n",
    "    for i in range(len(desired_output)):\n",
    "        unit_inputs, unit_outputs = forward_propagation(\n",
    "            prototype=prototype[i], weight=w\n",
    "        )\n",
    "        outputs.append(unit_outputs[-1])\n",
    "        delta = output_layer_delta(\n",
    "            input=unit_inputs[-1],\n",
    "            output=unit_outputs[-1],\n",
    "            desired_output=desired_output[i],\n",
    "        )\n",
    "        delta = middle_layer_delta(input=unit_inputs, weight=w, succ_delta=[delta])\n",
    "        dw = delta_weight(\n",
    "            learning_step=learning_step, succ_layer_delta=delta, output=unit_outputs\n",
    "        )\n",
    "        w = update_weight(weight=w, delta_weight=dw)\n",
    "    return (w, outputs)"
   ]
  },
  {
   "cell_type": "code",
   "execution_count": null,
   "metadata": {},
   "outputs": [],
   "source": [
    "def quadratic_error(prototype_number, variance_series, desired_outputs, outputs):\n",
    "    return (1 / (prototype_number * np.power(variance_series, 2))) * np.power(\n",
    "        np.sum(np.subtract(outputs, desired_outputs)), 2\n",
    "    )"
   ]
  },
  {
   "cell_type": "code",
   "execution_count": null,
   "metadata": {},
   "outputs": [],
   "source": [
    "def train_with_epoch(prototype, initial_weight, learning_step, desired_output, epoch):\n",
    "    w = [initial_weight]\n",
    "    quadratic_errors = []\n",
    "    for _ in range(epoch):\n",
    "        nw, outputs = train(\n",
    "            desired_output=desired_output,\n",
    "            initial_weight=w[-1],\n",
    "            learning_step=learning_step,\n",
    "            prototype=prototype,\n",
    "        )\n",
    "        quadratic_errors.append(\n",
    "            quadratic_error(\n",
    "                prototype_number=len(desired_output),\n",
    "                variance_series=0.1,\n",
    "                desired_outputs=desired_output,\n",
    "                outputs=outputs,\n",
    "            )\n",
    "        )\n",
    "        w.append(nw)\n",
    "    return (w, quadratic_errors)"
   ]
  },
  {
   "cell_type": "code",
   "execution_count": null,
   "metadata": {},
   "outputs": [],
   "source": [
    "def predict(prototype, desired_output, weight, length):\n",
    "    prediction = []\n",
    "    outputs = []\n",
    "    for i in range(length):\n",
    "        current_prediction = forward_propagation(prototype=prototype[i], weight=weight)[\n",
    "            1\n",
    "        ][-1]\n",
    "        prediction.append(current_prediction)\n",
    "        outputs.append(desired_output[i])\n",
    "    return (prediction, outputs)"
   ]
  },
  {
   "cell_type": "code",
   "execution_count": null,
   "metadata": {},
   "outputs": [],
   "source": [
    "def predict_with_step_forward(prototype, desired_output, step, weight):\n",
    "    used_prototype = np.array(prototype)\n",
    "    prediction = []\n",
    "    outputs = []\n",
    "    for i in range(step):\n",
    "        current_prediction = forward_propagation(\n",
    "            prototype=used_prototype, weight=weight\n",
    "        )[1][-1]\n",
    "        prediction.append(current_prediction)\n",
    "        outputs.append(desired_output[i])\n",
    "        used_prototype = np.append(current_prediction, used_prototype)\n",
    "        used_prototype = np.delete(used_prototype, -1)\n",
    "    return (prediction, outputs)"
   ]
  },
  {
   "cell_type": "code",
   "execution_count": null,
   "metadata": {},
   "outputs": [],
   "source": [
    "def plot_prediction(prototype, step, weight, desired_output, length=10):\n",
    "    prediction, _desired_output = (\n",
    "        predict(\n",
    "            prototype=prototype,\n",
    "            length=length,\n",
    "            weight=weight,\n",
    "            desired_output=desired_output,\n",
    "        )\n",
    "        if step == 1\n",
    "        else predict_with_step_forward(\n",
    "            prototype=prototype[0],\n",
    "            desired_output=desired_output,\n",
    "            step=step,\n",
    "            weight=weight,\n",
    "        )\n",
    "    )\n",
    "    fig, ax = plt.subplots()\n",
    "    ax.plot(np.array(range(len(_desired_output))), np.array(_desired_output).flatten())\n",
    "    ax.plot(np.array(range(len(prediction))), np.array(prediction).flatten())\n",
    "    ax.set_xlabel(\"Itération\")\n",
    "    ax.set_ylabel(\"Valeur\")\n",
    "    ax.legend([\"Valeur attendue\", \"Valeur prédite\"], loc=\"lower right\")\n",
    "    plt.title(f\"Prédiction à {step} pas en avant\")\n",
    "    plt.show()"
   ]
  },
  {
   "cell_type": "code",
   "execution_count": null,
   "metadata": {},
   "outputs": [],
   "source": [
    "arch = (2, 3, 1)\n",
    "initial_weight = generate_network_weight(arch)\n",
    "val = Takens.generate_func_values(a=2, initial_value=0.1, range_number=500)\n",
    "seq = Takens.generate_sequence(time_series=val, dimension=2, delay=1).flatten()\n",
    "prototype = seq.reshape(int(len(seq) / arch[0]), arch[0])\n",
    "desired_output = np.array([[val[i]] for i in range(arch[0], len(val))])\n",
    "learning_step = 0.1"
   ]
  },
  {
   "cell_type": "code",
   "execution_count": null,
   "metadata": {},
   "outputs": [],
   "source": [
    "w, q_errors = train_with_epoch(\n",
    "    initial_weight=initial_weight,\n",
    "    learning_step=learning_step,\n",
    "    desired_output=desired_output,\n",
    "    prototype=prototype,\n",
    "    epoch=20\n",
    ")"
   ]
  },
  {
   "cell_type": "code",
   "execution_count": null,
   "metadata": {},
   "outputs": [],
   "source": [
    "# fig, ax = plt.subplots()\n",
    "# ax.set_xlabel(\"Epoque\")\n",
    "# ax.set_ylabel(\"NMSE\")\n",
    "# ax.plot(np.array(range(1, 21)), np.nan_to_num(q_errors))\n",
    "# ax.set_xlim(left=0)\n",
    "# plt.show()"
   ]
  },
  {
   "cell_type": "code",
   "execution_count": null,
   "metadata": {},
   "outputs": [],
   "source": [
    "plot_prediction(prototype=prototype, step=1, weight=w[-1], desired_output=desired_output)"
   ]
  }
 ],
 "metadata": {
  "kernelspec": {
   "display_name": "env",
   "language": "python",
   "name": "python3"
  },
  "language_info": {
   "codemirror_mode": {
    "name": "ipython",
    "version": 3
   },
   "file_extension": ".py",
   "mimetype": "text/x-python",
   "name": "python",
   "nbconvert_exporter": "python",
   "pygments_lexer": "ipython3",
   "version": "3.11.4"
  },
  "orig_nbformat": 4
 },
 "nbformat": 4,
 "nbformat_minor": 2
}
