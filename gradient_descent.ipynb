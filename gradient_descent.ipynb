{
 "cells": [
  {
   "cell_type": "code",
   "execution_count": 175,
   "metadata": {},
   "outputs": [],
   "source": [
    "import numpy as np"
   ]
  },
  {
   "cell_type": "code",
   "execution_count": 176,
   "metadata": {},
   "outputs": [],
   "source": [
    "def sigmoid(x):\n",
    "    return np.round((1 / (1 + np.exp(-x))), 8)\n",
    "\n",
    "\n",
    "def d_sigmoid(x):\n",
    "    return np.round((np.exp(-x) / np.power((1 + np.exp(-x)), 2)), 8)\n",
    "\n",
    "\n",
    "def generate_weight(source_units, target_units):\n",
    "    return np.array(\n",
    "        [np.round(np.random.randn(), 8) for _ in range(source_units * target_units)]\n",
    "    ).reshape(target_units, source_units)"
   ]
  },
  {
   "cell_type": "code",
   "execution_count": 177,
   "metadata": {},
   "outputs": [],
   "source": [
    "def forward_propagation(prototype, weight):\n",
    "    \"\"\"Calcule les valeurs d'entrée et de sortie des unités de chaque couche\n",
    "    Args:\n",
    "        prototype (list[float]): prototype qui entre dans les noeuds de la couche d'entrée\n",
    "        weight (list[list[float]]): poids de chaque connexions entre les noeuds des couches\n",
    "            eg: Pour un réseau de type [3, 2, 1] w doit ressembler à\n",
    "                w = [[[w11, w12, w13], [w21, w22, w23]], [[w11, w12]]]\n",
    "    Returns:\n",
    "        units_input (list[list[float]]): chaque valeurs d'entrée des unités de chaque couche\n",
    "            eg: Pour un réseau de type [3, 2, 1] on a [[h21, h22], [h31]]\n",
    "        units_output (list[list[float]]): chaque valeurs de sortie des unités de chaque couche\n",
    "            eg: Pour un réseau de type [3, 2, 1] on a [[V11, V12, V13], [V21, V22], [V31]]\n",
    "    \"\"\"\n",
    "    units_input = []\n",
    "    units_output = [prototype]\n",
    "    for layer in weight:\n",
    "        current_input = []\n",
    "        current_output = []\n",
    "        for unit in layer:\n",
    "            h = np.round(np.dot(prototype, unit), 8)\n",
    "            current_input.append(h)\n",
    "            current_output.append(sigmoid(h))\n",
    "        units_input.append(current_input)\n",
    "        units_output.append(current_output)\n",
    "        prototype = current_output\n",
    "    return (units_input, units_output)"
   ]
  },
  {
   "cell_type": "code",
   "execution_count": 178,
   "metadata": {},
   "outputs": [],
   "source": [
    "def output_layer_delta(input, output, desired_output):\n",
    "    \"\"\"Calcule les deltas pour la couche de sortie\n",
    "    Args:\n",
    "        input (list[float]): valeurs d'entrées des unités de sortie\n",
    "        output (list[float]): valeurs produites par les unités de sortie\n",
    "        desired_output (list[float]): valeurs désirés\n",
    "    Returns:\n",
    "        units_delta (list[float]): deltas des unités de la couche de sortie\n",
    "    \"\"\"\n",
    "    units_delta = []\n",
    "    for i in range(len(desired_output)):\n",
    "        delta = d_sigmoid(input[i]) * (desired_output[i] - output[i])\n",
    "        units_delta.append(np.round(delta, 8))\n",
    "    return units_delta"
   ]
  },
  {
   "cell_type": "code",
   "execution_count": 179,
   "metadata": {},
   "outputs": [],
   "source": [
    "def middle_layer_delta(input, weight, succ_delta):\n",
    "    \"\"\"Calcule les deltas pour les couches précédentes\n",
    "    Args:\n",
    "        input (list[list[float]]): chaque valeurs d'entrée des unités de chaque couche\n",
    "        weight (list[list[float]]): poids de chaque connexions entre les noeuds des couches\n",
    "        succ_delta (list[list[float]]): delta des couches suivants\n",
    "    Returns:\n",
    "        succ_delta (list[list[float]]): liste de tous les deltas\n",
    "    \"\"\"\n",
    "    units_delta = []\n",
    "    for i in range(len(weight) + 1, 2, -1):\n",
    "        for j in range(len(weight[i - 3])):\n",
    "            delta = d_sigmoid(input[i - 3][j]) * np.dot(\n",
    "                [weight[i - 2][k][j] for k in range(len(weight[i - 2]))], succ_delta[-1]\n",
    "            )\n",
    "            units_delta.append(np.round(delta, 8))\n",
    "        succ_delta.append(units_delta)\n",
    "    return succ_delta"
   ]
  },
  {
   "cell_type": "code",
   "execution_count": 180,
   "metadata": {},
   "outputs": [],
   "source": [
    "def delta_weight(learning_step, succ_layer_delta, output):\n",
    "    \"\"\"Calcule  delta weight pour mettre à jour les poids\n",
    "    Args:\n",
    "        learning_step (float): pas d'apprentissage\n",
    "        succ_layer (list[list[float]]): tous les deltas de chaque noeud de chaque couche\n",
    "        output (list[list[float]]): valeus produites par tous les noeuds\n",
    "    Returns:\n",
    "        delta_weights (list[list[float]]): delta de tous les noeuds de chaque couche\n",
    "    \"\"\"\n",
    "    output_copy = list.copy(output)\n",
    "    output_copy.pop()\n",
    "    output_copy.reverse()\n",
    "    delta_weights = []\n",
    "    for i in range(len(succ_layer_delta)):\n",
    "        current_delta = []\n",
    "        for delta in succ_layer_delta[i]:\n",
    "            current_delta.append(\n",
    "                np.round((np.multiply(delta * learning_step, output_copy[i])), 8)\n",
    "            )\n",
    "        delta_weights.append(current_delta)\n",
    "    delta_weights.reverse()\n",
    "    return delta_weights"
   ]
  },
  {
   "cell_type": "code",
   "execution_count": 181,
   "metadata": {},
   "outputs": [],
   "source": [
    "def update_weight(weight, delta_weight):\n",
    "    \"\"\"Met à jours les poids des connexions\n",
    "    Args:\n",
    "        weight (list[list[float]]): poids des connexions\n",
    "        delta_weight (list[list[float]]): delta de tous les noeuds de chaque couche\n",
    "    Returns: poids des connexions à jour\n",
    "    \"\"\"\n",
    "    return [np.round(np.add(weight[i], delta_weight[i]), 8) for i in range(len(weight))]"
   ]
  },
  {
   "cell_type": "code",
   "execution_count": 182,
   "metadata": {},
   "outputs": [],
   "source": [
    "prototype = [1, 0, 1]\n",
    "w = [[[0.2, 0.1, 0.1], [0.3, 0.2, 0.3]], [[0.2, 0.3]]]\n",
    "learning_step = 0.1\n",
    "desired_output = [1]"
   ]
  },
  {
   "cell_type": "code",
   "execution_count": 183,
   "metadata": {},
   "outputs": [
    {
     "data": {
      "text/plain": [
       "[array([[0.20050546, 0.1       , 0.10050546],\n",
       "        [0.30070958, 0.2       , 0.30070958]]),\n",
       " array([[0.20593883, 0.30667507]])]"
      ]
     },
     "execution_count": 183,
     "metadata": {},
     "output_type": "execute_result"
    }
   ],
   "source": [
    "unit_inputs, unit_outputs = forward_propagation(prototype, w)\n",
    "d = output_layer_delta(unit_inputs[-1], unit_outputs[-1], desired_output)\n",
    "d = middle_layer_delta(unit_inputs, w, [d])\n",
    "dw = delta_weight(learning_step, d, unit_outputs)\n",
    "w = update_weight(w, dw)\n",
    "w"
   ]
  }
 ],
 "metadata": {
  "kernelspec": {
   "display_name": "env",
   "language": "python",
   "name": "python3"
  },
  "language_info": {
   "codemirror_mode": {
    "name": "ipython",
    "version": 3
   },
   "file_extension": ".py",
   "mimetype": "text/x-python",
   "name": "python",
   "nbconvert_exporter": "python",
   "pygments_lexer": "ipython3",
   "version": "3.11.4"
  },
  "orig_nbformat": 4
 },
 "nbformat": 4,
 "nbformat_minor": 2
}
