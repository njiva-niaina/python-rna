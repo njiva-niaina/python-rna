{
 "cells": [
  {
   "cell_type": "code",
   "execution_count": 1,
   "metadata": {},
   "outputs": [],
   "source": [
    "import numpy as np\n",
    "import matplotlib.pyplot as plt"
   ]
  },
  {
   "cell_type": "code",
   "execution_count": null,
   "metadata": {},
   "outputs": [],
   "source": [
    "class FunctionValues:\n",
    "    @staticmethod\n",
    "    def __calculate_x(a: int, x: float):\n",
    "        return np.single(a * x * (1 - x))\n",
    "\n",
    "    @staticmethod\n",
    "    def generate_values(a: int, count: int):\n",
    "        xn = np.array([0.1])\n",
    "        for i in range(count - 1):\n",
    "            xi = FunctionValues.__calculate_x(a, xn[i])\n",
    "            xn = np.append(xn, xi)\n",
    "        return xn"
   ]
  },
  {
   "cell_type": "code",
   "execution_count": null,
   "metadata": {},
   "outputs": [],
   "source": [
    "class Takens:\n",
    "    @staticmethod\n",
    "    def __create_sequence(idx, time_series, delay, corr):\n",
    "        return np.array([[time_series[idx + (i) * delay]] for i in range(corr)])\n",
    "\n",
    "    @staticmethod\n",
    "    def __covariance_matrix(matrix):\n",
    "        return np.multiply(matrix, np.transpose(matrix))\n",
    "\n",
    "    @staticmethod\n",
    "    def __generate_sequence(time_series, delay, corr):\n",
    "        return np.array(\n",
    "            [\n",
    "                Takens.__create_sequence(\n",
    "                    idx=i, time_series=time_series, delay=delay, corr=corr\n",
    "                )\n",
    "                for i in range(time_series.size - corr)\n",
    "            ]\n",
    "        )\n",
    "\n",
    "    @staticmethod\n",
    "    def generate_error(delay, corr):\n",
    "        time_series = FunctionValues.generate_values(a=2, count=500)\n",
    "        seq = Takens.__generate_sequence(\n",
    "            time_series=time_series, delay=delay, corr=corr\n",
    "        )\n",
    "        cov = np.array([Takens.__covariance_matrix(_seq) for _seq in seq])\n",
    "        eigvals = np.array([np.linalg.eigvals(_cov) for _cov in cov]).flatten()\n",
    "        eigvals = np.sort(eigvals, kind=\"mergesort\")[::-1]\n",
    "        err = np.array(\n",
    "            [np.sqrt(eigvals[i + 1]) for i in range(time_series.size - corr)]\n",
    "        )\n",
    "        return err"
   ]
  },
  {
   "cell_type": "code",
   "execution_count": null,
   "metadata": {},
   "outputs": [],
   "source": [
    "err = Takens.generate_error(1, 100)"
   ]
  },
  {
   "cell_type": "code",
   "execution_count": null,
   "metadata": {},
   "outputs": [],
   "source": [
    "x = np.array([i for i in range(400)])"
   ]
  },
  {
   "cell_type": "code",
   "execution_count": null,
   "metadata": {},
   "outputs": [],
   "source": [
    "fig, ax = plt.subplots()\n",
    "ax.plot(x, err)\n",
    "plt.show()"
   ]
  },
  {
   "cell_type": "code",
   "execution_count": 69,
   "metadata": {},
   "outputs": [],
   "source": [
    "def generate_prototype(time_series, entry_unit):\n",
    "    prototype_count = time_series.size - entry_unit + 1\n",
    "    prototype = np.array(\n",
    "        [\n",
    "            [np.array([time_series[i + j]]) for j in range(entry_unit)]\n",
    "            for i in range(prototype_count)\n",
    "        ]\n",
    "    )\n",
    "    return prototype"
   ]
  }
 ],
 "metadata": {
  "kernelspec": {
   "display_name": "env",
   "language": "python",
   "name": "python3"
  },
  "language_info": {
   "codemirror_mode": {
    "name": "ipython",
    "version": 3
   },
   "file_extension": ".py",
   "mimetype": "text/x-python",
   "name": "python",
   "nbconvert_exporter": "python",
   "pygments_lexer": "ipython3",
   "version": "3.11.4"
  },
  "orig_nbformat": 4
 },
 "nbformat": 4,
 "nbformat_minor": 2
}
